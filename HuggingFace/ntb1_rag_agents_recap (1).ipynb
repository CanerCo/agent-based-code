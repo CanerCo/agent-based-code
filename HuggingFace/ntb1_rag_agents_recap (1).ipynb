{
  "nbformat": 4,
  "nbformat_minor": 0,
  "metadata": {
    "colab": {
      "provenance": []
    },
    "kernelspec": {
      "name": "python3",
      "display_name": "Python 3"
    },
    "language_info": {
      "name": "python"
    }
  },
  "cells": [
    {
      "cell_type": "code",
      "execution_count": null,
      "metadata": {
        "id": "4xw8nIX-V4xn"
      },
      "outputs": [],
      "source": [
        "!pip install smolagents -q"
      ]
    },
    {
      "cell_type": "code",
      "source": [
        "from huggingface_hub import notebook_login\n",
        "\n",
        "notebook_login()"
      ],
      "metadata": {
        "id": "2T_YaaDJWBIA"
      },
      "execution_count": null,
      "outputs": []
    },
    {
      "cell_type": "code",
      "source": [
        "!pip install duckduckgo_search"
      ],
      "metadata": {
        "id": "rTbIccttWOcI"
      },
      "execution_count": null,
      "outputs": []
    },
    {
      "cell_type": "code",
      "source": [
        "from smolagents import CodeAgent, DuckDuckGoSearchTool, InferenceClientModel\n",
        "\n",
        "# Initialize the search tool\n",
        "search_tool = DuckDuckGoSearchTool()\n",
        "\n",
        "# Initialize the model\n",
        "model = InferenceClientModel()\n",
        "\n",
        "agent = CodeAgent(\n",
        "    model = model,\n",
        "    tools=[search_tool]\n",
        ")\n",
        "\n",
        "# Example usage\n",
        "response = agent.run(\n",
        "    \"Search for phd ideas for a Computational Linguistics with a master degree\"\n",
        ")\n",
        "print(response)"
      ],
      "metadata": {
        "id": "HdalCQiaWRNl"
      },
      "execution_count": null,
      "outputs": []
    },
    {
      "cell_type": "markdown",
      "source": [
        "The agent follows this process:\n",
        "\n",
        "Analyzes the Request: Our agent identifies the key elements of phd topics for a computational Linguistics\n",
        "\n",
        "Performs Retrieval: The agent leverages DuckDuckGo to search for the most relevant and up-to-date information, ensuring it aligns with agent's event\n",
        "\n",
        "Synthesizes Information: After gathering the results, the agent processes them into a cohesive, actionable plan for us, covering all aspects of the topics.\n",
        "\n",
        "Stores for Future Reference: The agent stores the retrieved information for easy access when planning future events, optimizing efficiency in subsequent tasks."
      ],
      "metadata": {
        "id": "Y-WVQLuxW2ia"
      }
    },
    {
      "cell_type": "markdown",
      "source": [
        "# Custom Knowledge base tool\n",
        "\n",
        "\n",
        "A custom knowledge base is very important for specialized tasks.\n",
        "\n",
        "We will create a tool that queries a vector database of technical documentation or specialized knowledge.\n",
        "\n",
        "We will use semantic search, so that the agent can find the most relevant information for agent's needs.\n",
        "\n",
        "This approach combines predefined knowledge with semantic search to provide context-aware solutions for event planning."
      ],
      "metadata": {
        "id": "4buow8gFWsQ-"
      }
    },
    {
      "cell_type": "code",
      "source": [
        "# Install the dependencies first and run!\n",
        "!pip install langchain-community rank_bm25"
      ],
      "metadata": {
        "id": "4vkpCcGRWxjG"
      },
      "execution_count": null,
      "outputs": []
    },
    {
      "cell_type": "code",
      "source": [
        "from langchain.docstore.document import Document\n",
        "from langchain.text_splitter import RecursiveCharacterTextSplitter\n",
        "from smolagents import Tool\n",
        "from langchain_community.retrievers import BM25Retriever\n",
        "from smolagents import CodeAgent, InferenceClientModel\n",
        "\n",
        "class PhdIdeasRetrieverTool(Tool):\n",
        "  name = \"phd_ideas_retriever\"\n",
        "  description = \"Uses semantic search to retrieve relevant phd ideas for a computational linguist student\"\n",
        "  inputs = {\n",
        "      \"query\": {\n",
        "          \"type\": \"string\",\n",
        "          \"description\": \"The query to perform. This should be a query related to phd ideas\",\n",
        "      }\n",
        "  }\n",
        "  output_type = \"string\"\n",
        "\n",
        "  def __init__(self, docs, **kwargs):\n",
        "    super().__init__(**kwargs)\n",
        "    self.retriever = BM25Retriever.from_documents(\n",
        "        docs, k=10 # Retrieve the top 5 documents\n",
        "    )\n",
        "  def forward(self, query: str) -> str:\n",
        "    assert isinstance(query, str), \"Your search query must be a string\"\n",
        "\n",
        "    docs = self.retriever.invoke(\n",
        "        query,\n",
        "    )\n",
        "    return \"\\nRetrieved ideas:\\n\" + \"\".join(\n",
        "        [\n",
        "          f\"\\n\\n===== Idea {str(i)} =====\\n\" + doc.page_content\n",
        "          for i, doc in enumerate(docs)\n",
        "        ]\n",
        "    )\n",
        "\n",
        "# Simulate a knowledge base about phd ideas\n",
        "phd_ideas = [\n",
        "    {\n",
        "        \"text\": \"Develop a multilingual transformer model optimized for low-resource languages, with emphasis on transfer learning and cross-lingual embeddings.\",\n",
        "        \"source\": \"Multilingual NLP\"\n",
        "    },\n",
        "    {\n",
        "        \"text\": \"Investigate bias propagation in large language models and propose debiasing techniques using adversarial training and data augmentation.\",\n",
        "        \"source\": \"Ethics in NLP\"\n",
        "    },\n",
        "    {\n",
        "        \"text\": \"Create a discourse-aware summarization system that uses rhetorical structure theory to improve coherence in generated summaries.\",\n",
        "        \"source\": \"Text Summarization\"\n",
        "    },\n",
        "    {\n",
        "        \"text\": \"Design a computational framework to detect and model code-switching in bilingual corpora using sequence tagging and syntactic cues.\",\n",
        "        \"source\": \"Sociolinguistics & NLP\"\n",
        "    },\n",
        "    {\n",
        "        \"text\": \"Explore the use of graph neural networks for semantic role labeling by encoding predicate-argument structures in dependency graphs.\",\n",
        "        \"source\": \"Semantic Parsing\"\n",
        "    },\n",
        "    {\n",
        "        \"text\": \"Build an explainable sentiment analysis model that identifies linguistic markers and provides interpretable explanations for predictions.\",\n",
        "        \"source\": \"Sentiment Analysis & Explainability\"\n",
        "    },\n",
        "    {\n",
        "        \"text\": \"Analyze the evolution of meaning in language using diachronic word embeddings trained on historical corpora across centuries.\",\n",
        "        \"source\": \"Computational Historical Linguistics\"\n",
        "    },\n",
        "    {\n",
        "        \"text\": \"Study the interaction between prosody and syntax in spoken corpora using multimodal transformers that integrate audio and text.\",\n",
        "        \"source\": \"Speech & Prosody\"\n",
        "    },\n",
        "    {\n",
        "        \"text\": \"Propose a benchmarking framework for evaluating robustness of NLP models against linguistic perturbations like syntactic reordering or lexical substitution.\",\n",
        "        \"source\": \"NLP Evaluation\"\n",
        "    },\n",
        "    {\n",
        "        \"text\": \"Implement a human-in-the-loop annotation pipeline using active learning to reduce labeling effort for complex NLP tasks.\",\n",
        "        \"source\": \"Annotation & Data Collection\"\n",
        "    }\n",
        "]\n",
        "\n",
        "source_docs = [\n",
        "    Document(page_content=doc[\"text\"], metadata={\"source\": doc[\"source\"]})\n",
        "    for doc in phd_ideas\n",
        "]\n",
        "\n",
        "# Split the documents into smaller chunks for more efficient search\n",
        "text_splitter = RecursiveCharacterTextSplitter(\n",
        "    chunk_size = 500,\n",
        "    chunk_overlap=50,\n",
        "    add_start_index=True,\n",
        "    strip_whitespace=True,\n",
        "    separators=[\"\\n\\n\", \"\\n\", \".\", \" \", \"\"],\n",
        ")\n",
        "docs_processed = text_splitter.split_documents(source_docs)\n",
        "\n",
        "# create the retriever tool\n",
        "phd_ideas_retriever = PhdIdeasRetrieverTool(docs_processed)\n",
        "\n",
        "# Initialize the agent\n",
        "agent = CodeAgent(tools=[phd_ideas_retriever], model=InferenceClientModel())\n",
        "\n",
        "# Example usage\n",
        "response = agent.run(\n",
        "    \"Find ideas for a phd ideas, including Linguistis, Computer Science, Artificial Intelligence, Machine Learning.\"\n",
        ")\n",
        "\n",
        "print(response)\n",
        "\n"
      ],
      "metadata": {
        "id": "rhhZek84XMY6"
      },
      "execution_count": null,
      "outputs": []
    },
    {
      "cell_type": "markdown",
      "source": [
        "This enhanced agent can:\n",
        "\n",
        "1. First check the documentation for relevant information\n",
        "2. Combine insights from the knowledge base\n",
        "3. Maintain conversation context in memory"
      ],
      "metadata": {
        "id": "mkgwCCUVZtGG"
      }
    }
  ]
}